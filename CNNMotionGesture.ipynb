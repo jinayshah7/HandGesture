{
 "cells": [
  {
   "cell_type": "markdown",
   "metadata": {},
   "source": [
    "### Training a CNN"
   ]
  },
  {
   "cell_type": "markdown",
   "metadata": {},
   "source": [
    "The goal of this project is recognize hand gestures using only a 2D webcam and this project has been attempted by only a few researchers. We don't know what the solution is and we don't know what neural network architecture suits best for the project. That is why we won't plan out the entire project and build it bit by bit, we'll build the entire project one iteration at a time. It will take several achitectures and settings to arrive to a best working model. "
   ]
  },
  {
   "cell_type": "markdown",
   "metadata": {},
   "source": [
    "Instead of trying to analyse the video data, we'll just take individual frames from the video and try to guess the gesture being performed. We'll use a CNN to take the frame as input and make a prediction. Using individual frames won't show us where the hand came from and where it's going to in the next frame, so we cannot truly analyse the whole motion, we'll just be analysing a glimpse of the entire motion gesture. Doing this isn't the most optimal way to build this system but I'm curious to see how far a CNN can go. Plus, we'll get something to compare our future models with."
   ]
  },
  {
   "cell_type": "markdown",
   "metadata": {},
   "source": [
    "### Importing The Data"
   ]
  },
  {
   "cell_type": "code",
   "execution_count": null,
   "metadata": {},
   "outputs": [],
   "source": []
  },
  {
   "cell_type": "markdown",
   "metadata": {},
   "source": [
    "### Training The CNN"
   ]
  },
  {
   "cell_type": "code",
   "execution_count": null,
   "metadata": {},
   "outputs": [],
   "source": []
  },
  {
   "cell_type": "markdown",
   "metadata": {},
   "source": [
    "### Let's See The Results"
   ]
  },
  {
   "cell_type": "code",
   "execution_count": null,
   "metadata": {},
   "outputs": [],
   "source": []
  }
 ],
 "metadata": {
  "kernelspec": {
   "display_name": "Python 3",
   "language": "python",
   "name": "python3"
  },
  "language_info": {
   "codemirror_mode": {
    "name": "ipython",
    "version": 3
   },
   "file_extension": ".py",
   "mimetype": "text/x-python",
   "name": "python",
   "nbconvert_exporter": "python",
   "pygments_lexer": "ipython3",
   "version": "3.6.2rc2"
  }
 },
 "nbformat": 4,
 "nbformat_minor": 2
}
