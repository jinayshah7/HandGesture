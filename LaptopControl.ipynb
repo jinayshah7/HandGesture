{
 "cells": [
  {
   "cell_type": "markdown",
   "metadata": {},
   "source": [
    "## Laptop Control Module"
   ]
  },
  {
   "cell_type": "markdown",
   "metadata": {},
   "source": [
    "This module will have functions for commonly used shortcuts, those functions could be triggered by any other program using any logic. For example, there will be a function named \"click()\", other programs can use this function for any purposes they want."
   ]
  },
  {
   "cell_type": "markdown",
   "metadata": {},
   "source": [
    "Controlling the GUI elements of the OS can be made possible by using PyAutoGUI module available on the internet, we'll use other modules if available"
   ]
  },
  {
   "cell_type": "markdown",
   "metadata": {},
   "source": [
    "We're looking forward to implementing the following functions\n",
    "\n",
    "1. click\n",
    "2. right_click\n",
    "3. double_click\n",
    "4. Alt + tab\n",
    "5. mute\n",
    "6. volume_up\n",
    "7. volume_down\n",
    "8. close\n",
    "9. up_arrow\n",
    "10. down_arrow\n",
    "11. left_arrow\n",
    "12. right_arrow\n",
    "13. backspace\n",
    "\n",
    "\n",
    "We're hoping to build something that lets us precisely control the cursor but we'll have to research more about that."
   ]
  },
  {
   "cell_type": "code",
   "execution_count": 1,
   "metadata": {},
   "outputs": [],
   "source": [
    "import cv2"
   ]
  },
  {
   "cell_type": "code",
   "execution_count": null,
   "metadata": {},
   "outputs": [],
   "source": []
  }
 ],
 "metadata": {
  "kernelspec": {
   "display_name": "Python 3",
   "language": "python",
   "name": "python3"
  },
  "language_info": {
   "codemirror_mode": {
    "name": "ipython",
    "version": 3
   },
   "file_extension": ".py",
   "mimetype": "text/x-python",
   "name": "python",
   "nbconvert_exporter": "python",
   "pygments_lexer": "ipython3",
   "version": "3.6.2rc2"
  }
 },
 "nbformat": 4,
 "nbformat_minor": 2
}
